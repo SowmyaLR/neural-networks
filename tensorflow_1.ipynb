{
  "nbformat": 4,
  "nbformat_minor": 0,
  "metadata": {
    "colab": {
      "name": "tensorflow.ipynb",
      "provenance": [],
      "include_colab_link": true
    },
    "kernelspec": {
      "name": "python3",
      "display_name": "Python 3"
    },
    "accelerator": "TPU"
  },
  "cells": [
    {
      "cell_type": "markdown",
      "metadata": {
        "id": "view-in-github",
        "colab_type": "text"
      },
      "source": [
        "<a href=\"https://colab.research.google.com/github/SowmyaLR/neural-networks/blob/basic_stuff/tensorflow_1.ipynb\" target=\"_parent\"><img src=\"https://colab.research.google.com/assets/colab-badge.svg\" alt=\"Open In Colab\"/></a>"
      ]
    },
    {
      "cell_type": "code",
      "metadata": {
        "id": "mO2wtcnzobIR",
        "colab_type": "code",
        "outputId": "2bd1b1c3-d637-4cea-dacc-0e4b8fe2cb03",
        "colab": {
          "base_uri": "https://localhost:8080/",
          "height": 63
        }
      },
      "source": [
        "import tensorflow as tf"
      ],
      "execution_count": 1,
      "outputs": [
        {
          "output_type": "display_data",
          "data": {
            "text/html": [
              "<p style=\"color: red;\">\n",
              "The default version of TensorFlow in Colab will soon switch to TensorFlow 2.x.<br>\n",
              "We recommend you <a href=\"https://www.tensorflow.org/guide/migrate\" target=\"_blank\">upgrade</a> now \n",
              "or ensure your notebook will continue to use TensorFlow 1.x via the <code>%tensorflow_version 1.x</code> magic:\n",
              "<a href=\"https://colab.research.google.com/notebooks/tensorflow_version.ipynb\" target=\"_blank\">more info</a>.</p>\n"
            ],
            "text/plain": [
              "<IPython.core.display.HTML object>"
            ]
          },
          "metadata": {
            "tags": []
          }
        }
      ]
    },
    {
      "cell_type": "code",
      "metadata": {
        "id": "QVBhdie_q1id",
        "colab_type": "code",
        "colab": {}
      },
      "source": [
        "graph = tf.Graph()\n",
        "\n",
        "with graph.as_default():\n",
        "  a = tf.constant([2,3],name='a')\n",
        "  b = tf.constant(3,name='b')\n"
      ],
      "execution_count": 0,
      "outputs": []
    },
    {
      "cell_type": "code",
      "metadata": {
        "id": "Bc2-syvHskIw",
        "colab_type": "code",
        "outputId": "bfc6e247-a8ec-4d12-9469-f0518b4d935d",
        "colab": {
          "base_uri": "https://localhost:8080/",
          "height": 34
        }
      },
      "source": [
        "ses = tf.Session(graph=graph)\n",
        "result = ses.run(a)\n",
        "print(result)\n",
        "ses.close()"
      ],
      "execution_count": 3,
      "outputs": [
        {
          "output_type": "stream",
          "text": [
            "[2 3]\n"
          ],
          "name": "stdout"
        }
      ]
    },
    {
      "cell_type": "code",
      "metadata": {
        "id": "63zH3FzQwL2F",
        "colab_type": "code",
        "outputId": "62b72941-89dd-4652-a6d8-1df1ce9d8a90",
        "colab": {
          "base_uri": "https://localhost:8080/",
          "height": 34
        }
      },
      "source": [
        "with graph.as_default():\n",
        "  c = tf.add(a,b)\n",
        "  ses = tf.Session(graph= graph)\n",
        "  print(ses.run(c))\n",
        "  ses.close()"
      ],
      "execution_count": 4,
      "outputs": [
        {
          "output_type": "stream",
          "text": [
            "[5 6]\n"
          ],
          "name": "stdout"
        }
      ]
    },
    {
      "cell_type": "code",
      "metadata": {
        "id": "En_vnLvw1FxS",
        "colab_type": "code",
        "outputId": "52c4a54a-71f6-48b8-dac1-6215288e2e5e",
        "colab": {
          "base_uri": "https://localhost:8080/",
          "height": 34
        }
      },
      "source": [
        "print(graph.get_operations())"
      ],
      "execution_count": 11,
      "outputs": [
        {
          "output_type": "stream",
          "text": [
            "[<tf.Operation 'a' type=Const>, <tf.Operation 'b' type=Const>, <tf.Operation 'Add' type=Add>]\n"
          ],
          "name": "stdout"
        }
      ]
    },
    {
      "cell_type": "markdown",
      "metadata": {
        "id": "pp-SArpXuYUC",
        "colab_type": "text"
      },
      "source": [
        "The word tensor from new latin means \"that which stretches\". It is a mathematical object that is named \"tensor\" because an early application of tensors was the study of materials stretching under tension. The contemporary meaning of tensors can be taken as multidimensional arrays."
      ]
    },
    {
      "cell_type": "markdown",
      "metadata": {
        "id": "YMTmlotGuzHX",
        "colab_type": "text"
      },
      "source": [
        "[tf dimensions](https://github.com/SowmyaLR/neural-networks/blob/basic_stuff/tensorflow_dimensions.png)"
      ]
    },
    {
      "cell_type": "code",
      "metadata": {
        "id": "clRotvZSwOqW",
        "colab_type": "code",
        "colab": {
          "base_uri": "https://localhost:8080/",
          "height": 85
        },
        "outputId": "fef24671-e675-43b4-ff17-21ac9ee52939"
      },
      "source": [
        "graph1 = tf.Graph()\n",
        "with graph1.as_default():\n",
        "  mat1 = tf.constant([[1,2,3],[4,5,6]], name=\"mat_1\")\n",
        "  mat2 = tf.constant([[7,8,9],[10,11,12]], name=\"mat_2\")\n",
        "  res1 = tf.add(mat1, mat2)\n",
        "  res2 = mat1 + mat2\n",
        "\n",
        "\n",
        "with tf.Session(graph=graph1) as sess:\n",
        "  print(sess.run(res1))\n",
        "  print(sess.run(res2))\n"
      ],
      "execution_count": 12,
      "outputs": [
        {
          "output_type": "stream",
          "text": [
            "[[ 8 10 12]\n",
            " [14 16 18]]\n",
            "[[ 8 10 12]\n",
            " [14 16 18]]\n"
          ],
          "name": "stdout"
        }
      ]
    },
    {
      "cell_type": "markdown",
      "metadata": {
        "id": "Rv667x0603-y",
        "colab_type": "text"
      },
      "source": [
        "**Variables**\n",
        "\n",
        "---\n",
        "\n",
        "\n",
        "\n",
        "TensorFlow variables are used to share and persistent some stats that are manipulated by our program. That is, when you define a variable, TensorFlow adds a tf.Operation to your graph. Then, this operation will store a writable tensor value that persists between tf.Session.run calls. So, you can update the value of a variable through each run, while you cannot update tensor (e.g a tensor created by tf.constant()) through multiple runs in a session.\n",
        "\n",
        "To be able to use variables in a computation graph it is necessary to initialize them before running the graph in a session. This is done by running **tf.global_variables_initializer()**."
      ]
    },
    {
      "cell_type": "code",
      "metadata": {
        "id": "6UNpSzMa1P1f",
        "colab_type": "code",
        "colab": {
          "base_uri": "https://localhost:8080/",
          "height": 102
        },
        "outputId": "35f9e184-8037-46d3-b0bd-a45992c6bad1"
      },
      "source": [
        "var = tf.Variable(0)\n",
        "\n",
        "ini = tf.global_variables_initializer()\n",
        "\n",
        "upd = tf.assign(var, var+1)\n",
        "with tf.Session() as ses:\n",
        "  print(ses.run(ini))\n",
        "  print(ses.run(var))\n",
        "  for _ in range(3):\n",
        "    ses.run(upd)\n",
        "    print(ses.run(var))"
      ],
      "execution_count": 20,
      "outputs": [
        {
          "output_type": "stream",
          "text": [
            "None\n",
            "0\n",
            "1\n",
            "2\n",
            "3\n"
          ],
          "name": "stdout"
        }
      ]
    },
    {
      "cell_type": "markdown",
      "metadata": {
        "id": "gL-RpiAB34sx",
        "colab_type": "text"
      },
      "source": [
        "**Placeholders**\n",
        "\n",
        "---\n",
        "\n",
        "If you want to feed data to a TensorFlow graph from outside a graph, you will need to use placeholders.\n",
        "\n",
        "So what are these placeholders and what do they do?\n",
        "\n",
        "Placeholders can be seen as \"holes\" in your model, \"holes\" which you will pass the data to, you can create them using\n",
        "tf.placeholder(datatype), where datatype specifies the type of data (integers,floating points, strings, booleans) along with its precision (8, 16, 32, 64) bits."
      ]
    },
    {
      "cell_type": "code",
      "metadata": {
        "id": "B9WKnttR6F7r",
        "colab_type": "code",
        "colab": {
          "base_uri": "https://localhost:8080/",
          "height": 34
        },
        "outputId": "6ab29f5b-0d98-43e6-ec4b-d8ebe7e6d251"
      },
      "source": [
        "a = tf.placeholder(tf.float32)\n",
        "b = a*32\n",
        "\n",
        "with tf.Session() as ses:\n",
        "  print(ses.run(b, feed_dict={a:1}))"
      ],
      "execution_count": 22,
      "outputs": [
        {
          "output_type": "stream",
          "text": [
            "32.0\n"
          ],
          "name": "stdout"
        }
      ]
    }
  ]
}