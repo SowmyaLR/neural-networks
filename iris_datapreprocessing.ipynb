{
  "nbformat": 4,
  "nbformat_minor": 0,
  "metadata": {
    "colab": {
      "name": "iris_datapreprocessing.ipynb",
      "provenance": [],
      "collapsed_sections": [],
      "authorship_tag": "ABX9TyMP8WPmdazgfaU7G3/HPHM4",
      "include_colab_link": true
    },
    "kernelspec": {
      "name": "python3",
      "display_name": "Python 3"
    },
    "accelerator": "GPU"
  },
  "cells": [
    {
      "cell_type": "markdown",
      "metadata": {
        "id": "view-in-github",
        "colab_type": "text"
      },
      "source": [
        "<a href=\"https://colab.research.google.com/github/SowmyaLR/neural-networks/blob/basic_stuff/iris_datapreprocessing.ipynb\" target=\"_parent\"><img src=\"https://colab.research.google.com/assets/colab-badge.svg\" alt=\"Open In Colab\"/></a>"
      ]
    },
    {
      "cell_type": "markdown",
      "metadata": {
        "id": "c7ZJlgVZozcL",
        "colab_type": "text"
      },
      "source": [
        "Importing the required packages"
      ]
    },
    {
      "cell_type": "code",
      "metadata": {
        "id": "7k29CRoZK9n1",
        "colab_type": "code",
        "colab": {}
      },
      "source": [
        "import pandas as pd\n",
        "import numpy as np"
      ],
      "execution_count": 0,
      "outputs": []
    },
    {
      "cell_type": "markdown",
      "metadata": {
        "id": "ddzlV3NLctzj",
        "colab_type": "text"
      },
      "source": [
        "Download the dataset IRIS.csv"
      ]
    },
    {
      "cell_type": "code",
      "metadata": {
        "id": "c9LCKnaWcfz_",
        "colab_type": "code",
        "colab": {
          "base_uri": "https://localhost:8080/",
          "height": 204
        },
        "outputId": "2c617633-5879-475f-d603-05134c1e9b57"
      },
      "source": [
        "!wget https://github.com/SowmyaLR/neural-networks/blob/basic_stuff/IRIS.csv"
      ],
      "execution_count": 1,
      "outputs": [
        {
          "output_type": "stream",
          "text": [
            "--2020-02-29 10:16:26--  https://github.com/SowmyaLR/neural-networks/blob/basic_stuff/IRIS.csv\n",
            "Resolving github.com (github.com)... 192.30.253.112\n",
            "Connecting to github.com (github.com)|192.30.253.112|:443... connected.\n",
            "HTTP request sent, awaiting response... 200 OK\n",
            "Length: unspecified [text/html]\n",
            "Saving to: ‘IRIS.csv’\n",
            "\n",
            "\rIRIS.csv                [<=>                 ]       0  --.-KB/s               \rIRIS.csv                [ <=>                ] 106.41K   592KB/s    in 0.2s    \n",
            "\n",
            "2020-02-29 10:16:27 (592 KB/s) - ‘IRIS.csv’ saved [108963]\n",
            "\n"
          ],
          "name": "stdout"
        }
      ]
    },
    {
      "cell_type": "markdown",
      "metadata": {
        "id": "xCsfLhBIo58n",
        "colab_type": "text"
      },
      "source": [
        "1. First read the data from csv using pd.read_csv\n",
        "2. Drop the duplicate records from the dataset"
      ]
    },
    {
      "cell_type": "code",
      "metadata": {
        "id": "zacraRgrLpcB",
        "colab_type": "code",
        "outputId": "e5110b67-877b-487e-b6e5-8dd96dab9d62",
        "colab": {
          "base_uri": "https://localhost:8080/",
          "height": 51
        }
      },
      "source": [
        "df = pd.read_csv('IRIS.csv')\n",
        "print('original length', len(df))\n",
        "df = df.drop_duplicates()\n",
        "print('after removing duplicates',len(df))"
      ],
      "execution_count": 0,
      "outputs": [
        {
          "output_type": "stream",
          "text": [
            "original length 150\n",
            "after removing duplicates 147\n"
          ],
          "name": "stdout"
        }
      ]
    },
    {
      "cell_type": "markdown",
      "metadata": {
        "id": "50oh_gtVpPvN",
        "colab_type": "text"
      },
      "source": [
        "df.head() is used to show the first 5 records in the dataset"
      ]
    },
    {
      "cell_type": "code",
      "metadata": {
        "id": "FHD6BDBVMbV4",
        "colab_type": "code",
        "outputId": "d86226f6-dac7-4801-b301-d7abaf74cfe6",
        "colab": {
          "base_uri": "https://localhost:8080/",
          "height": 204
        }
      },
      "source": [
        "df.head()"
      ],
      "execution_count": 0,
      "outputs": [
        {
          "output_type": "execute_result",
          "data": {
            "text/html": [
              "<div>\n",
              "<style scoped>\n",
              "    .dataframe tbody tr th:only-of-type {\n",
              "        vertical-align: middle;\n",
              "    }\n",
              "\n",
              "    .dataframe tbody tr th {\n",
              "        vertical-align: top;\n",
              "    }\n",
              "\n",
              "    .dataframe thead th {\n",
              "        text-align: right;\n",
              "    }\n",
              "</style>\n",
              "<table border=\"1\" class=\"dataframe\">\n",
              "  <thead>\n",
              "    <tr style=\"text-align: right;\">\n",
              "      <th></th>\n",
              "      <th>sepal_length</th>\n",
              "      <th>sepal_width</th>\n",
              "      <th>petal_length</th>\n",
              "      <th>petal_width</th>\n",
              "      <th>species</th>\n",
              "    </tr>\n",
              "  </thead>\n",
              "  <tbody>\n",
              "    <tr>\n",
              "      <th>0</th>\n",
              "      <td>5.1</td>\n",
              "      <td>3.5</td>\n",
              "      <td>1.4</td>\n",
              "      <td>0.2</td>\n",
              "      <td>Iris-setosa</td>\n",
              "    </tr>\n",
              "    <tr>\n",
              "      <th>1</th>\n",
              "      <td>4.9</td>\n",
              "      <td>3.0</td>\n",
              "      <td>1.4</td>\n",
              "      <td>0.2</td>\n",
              "      <td>Iris-setosa</td>\n",
              "    </tr>\n",
              "    <tr>\n",
              "      <th>2</th>\n",
              "      <td>4.7</td>\n",
              "      <td>3.2</td>\n",
              "      <td>1.3</td>\n",
              "      <td>0.2</td>\n",
              "      <td>Iris-setosa</td>\n",
              "    </tr>\n",
              "    <tr>\n",
              "      <th>3</th>\n",
              "      <td>4.6</td>\n",
              "      <td>3.1</td>\n",
              "      <td>1.5</td>\n",
              "      <td>0.2</td>\n",
              "      <td>Iris-setosa</td>\n",
              "    </tr>\n",
              "    <tr>\n",
              "      <th>4</th>\n",
              "      <td>5.0</td>\n",
              "      <td>3.6</td>\n",
              "      <td>1.4</td>\n",
              "      <td>0.2</td>\n",
              "      <td>Iris-setosa</td>\n",
              "    </tr>\n",
              "  </tbody>\n",
              "</table>\n",
              "</div>"
            ],
            "text/plain": [
              "   sepal_length  sepal_width  petal_length  petal_width      species\n",
              "0           5.1          3.5           1.4          0.2  Iris-setosa\n",
              "1           4.9          3.0           1.4          0.2  Iris-setosa\n",
              "2           4.7          3.2           1.3          0.2  Iris-setosa\n",
              "3           4.6          3.1           1.5          0.2  Iris-setosa\n",
              "4           5.0          3.6           1.4          0.2  Iris-setosa"
            ]
          },
          "metadata": {
            "tags": []
          },
          "execution_count": 3
        }
      ]
    },
    {
      "cell_type": "markdown",
      "metadata": {
        "id": "aZhtSlySpWc-",
        "colab_type": "text"
      },
      "source": [
        "1. calculating the mean for sepal_length,sepal_width,petal_length,petal_width\n",
        "2. This calculated value can be used for filling Nan or Null values in their corresponding column or cell for data preprocessing "
      ]
    },
    {
      "cell_type": "code",
      "metadata": {
        "id": "hIErfRcKW5Ru",
        "colab_type": "code",
        "colab": {}
      },
      "source": [
        "sepal_length_mean = np.mean(df[['sepal_length']])\n",
        "sepal_width_mean = np.mean(df[['sepal_width']])\n",
        "petal_length_mean = np.mean(df[['petal_length']])\n",
        "petal_width_mean = np.mean(df[['petal_width']])"
      ],
      "execution_count": 0,
      "outputs": []
    },
    {
      "cell_type": "markdown",
      "metadata": {
        "id": "_AnK9abcpr-B",
        "colab_type": "text"
      },
      "source": [
        "Now check for nan in all columns."
      ]
    },
    {
      "cell_type": "code",
      "metadata": {
        "id": "ldfWWc1VcCE3",
        "colab_type": "code",
        "colab": {}
      },
      "source": [
        "is_nan_sl = df['sepal_length'].isna() == True\n",
        "is_nan_sw = df['sepal_width'].isna() == True\n",
        "is_nan_pl = df['petal_length'].isna() == True\n",
        "is_nan_pw = df['petal_width'].isna() == True\n",
        "if is_nan_sl.all():\n",
        "  df['sepal_length'] = df.sepal_length.fillna(sepal_length_mean)\n",
        "if is_nan_sw.all():\n",
        "  df['sepal_width'] = df.sepal_width.fillna(sepal_width_mean)\n",
        "if is_nan_pl.all():\n",
        "  df['petal_length'] = df.petal_length.fillna(petal_length_mean)\n",
        "if is_nan_pw.all():\n",
        "  df['petal_width'] = df.petal_width.fillna(petal_width_mean)\n"
      ],
      "execution_count": 0,
      "outputs": []
    },
    {
      "cell_type": "code",
      "metadata": {
        "id": "aZo0evPdfhQX",
        "colab_type": "code",
        "outputId": "2b253a5e-7cc2-413c-a447-98922d9c3701",
        "colab": {
          "base_uri": "https://localhost:8080/",
          "height": 34
        }
      },
      "source": [
        "df.species.unique()"
      ],
      "execution_count": 0,
      "outputs": [
        {
          "output_type": "execute_result",
          "data": {
            "text/plain": [
              "array(['Iris-setosa', 'Iris-versicolor', 'Iris-virginica'], dtype=object)"
            ]
          },
          "metadata": {
            "tags": []
          },
          "execution_count": 6
        }
      ]
    },
    {
      "cell_type": "markdown",
      "metadata": {
        "id": "9BtVdhbxp4fM",
        "colab_type": "text"
      },
      "source": [
        "Once data cleaning and pre processing is completed try to visualize the data. Here X-axis is sepal_length and Y-axis is sepal_width"
      ]
    },
    {
      "cell_type": "code",
      "metadata": {
        "id": "8UEkp-vfgwxS",
        "colab_type": "code",
        "colab": {}
      },
      "source": [
        "setosa_x = df[df['species'] == 'Iris-setosa']['sepal_length'].to_list()\n",
        "versicolor_x = df[df['species'] == 'Iris-versicolor']['sepal_length'].to_list()\n",
        "virginica_x = df[df['species'] == 'Iris-virginica']['sepal_length'].to_list()"
      ],
      "execution_count": 0,
      "outputs": []
    },
    {
      "cell_type": "code",
      "metadata": {
        "id": "a6riXysdiPqI",
        "colab_type": "code",
        "colab": {}
      },
      "source": [
        "setosa_y = df[df['species'] == 'Iris-setosa']['sepal_width'].to_list()\n",
        "versicolor_y = df[df['species'] == 'Iris-versicolor']['sepal_width'].to_list()\n",
        "virginica_y = df[df['species'] == 'Iris-virginica']['sepal_width'].to_list()"
      ],
      "execution_count": 0,
      "outputs": []
    },
    {
      "cell_type": "code",
      "metadata": {
        "id": "lUVVno3Sc6Cj",
        "colab_type": "code",
        "outputId": "7b0f6e1b-d035-4c2b-d4f0-d8e168a90c10",
        "colab": {
          "base_uri": "https://localhost:8080/",
          "height": 366
        }
      },
      "source": [
        "import matplotlib.pyplot as plt\n",
        "\n",
        "fig = plt.figure()\n",
        "ax=fig.add_axes([0,0,1,1])\n",
        "ax.scatter(setosa_x,setosa_y,color='r',label='Iris-setosa')\n",
        "ax.scatter(versicolor_x,versicolor_y,color='g', label='Iris-versicolor')\n",
        "ax.scatter(virginica_x,virginica_y,color='b',label='Iris-virginica')\n",
        "ax.legend()\n",
        "ax.set_xlabel('Sepal Length')\n",
        "ax.set_ylabel('Sepal Width')\n",
        "ax.set_title(\"Sepal Length vs Sepal Width\")\n",
        "plt.show()"
      ],
      "execution_count": 0,
      "outputs": [
        {
          "output_type": "display_data",
          "data": {
            "image/png": "[encoded data removed]",
            "text/plain": [
              "<Figure size 432x288 with 1 Axes>"
            ]
          },
          "metadata": {
            "tags": []
          }
        }
      ]
    },
    {
      "cell_type": "code",
      "metadata": {
        "id": "LmSrxD5arqqo",
        "colab_type": "code",
        "colab": {}
      },
      "source": [
        "x1 = df[df['species'] == 'Iris-setosa']['petal_length'].to_list()\n",
        "x2 = df[df['species'] == 'Iris-versicolor']['petal_length'].to_list()\n",
        "x3 = df[df['species'] == 'Iris-virginica']['petal_length'].to_list()"
      ],
      "execution_count": 0,
      "outputs": []
    },
    {
      "cell_type": "code",
      "metadata": {
        "id": "k-D3-C6gryS1",
        "colab_type": "code",
        "colab": {}
      },
      "source": [
        "y1 = df[df['species'] == 'Iris-setosa']['petal_width'].to_list()\n",
        "y2 = df[df['species'] == 'Iris-versicolor']['petal_width'].to_list()\n",
        "y3 = df[df['species'] == 'Iris-virginica']['petal_width'].to_list()"
      ],
      "execution_count": 0,
      "outputs": []
    },
    {
      "cell_type": "code",
      "metadata": {
        "id": "qdAiEGJur5aK",
        "colab_type": "code",
        "outputId": "57001326-4c27-4f7e-aa2d-c8083ad598c7",
        "colab": {
          "base_uri": "https://localhost:8080/",
          "height": 366
        }
      },
      "source": [
        "import matplotlib.pyplot as plt\n",
        "\n",
        "fig = plt.figure()\n",
        "ax=fig.add_axes([0,0,1,1])\n",
        "ax.scatter(x1,y1,color='r',label='Iris-setosa')\n",
        "ax.scatter(x2,y2,color='g', label='Iris-versicolor')\n",
        "ax.scatter(x3,y3,color='b',label='Iris-virginica')\n",
        "ax.legend()\n",
        "ax.set_xlabel('petal Length')\n",
        "ax.set_ylabel('petal Width')\n",
        "ax.set_title(\"petal Length vs petal Width\")\n",
        "plt.show()"
      ],
      "execution_count": 0,
      "outputs": [
        {
          "output_type": "display_data",
          "data": {
            "image/png": "[encoded data removed]",
            "text/plain": [
              "<Figure size 432x288 with 1 Axes>"
            ]
          },
          "metadata": {
            "tags": []
          }
        }
      ]
    }
  ]
}