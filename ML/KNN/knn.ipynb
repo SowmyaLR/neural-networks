{
  "nbformat": 4,
  "nbformat_minor": 0,
  "metadata": {
    "colab": {
      "name": "knn.ipynb",
      "provenance": [],
      "authorship_tag": "ABX9TyOqlavEb21CoFQosx6SJqff",
      "include_colab_link": true
    },
    "kernelspec": {
      "name": "python3",
      "display_name": "Python 3"
    }
  },
  "cells": [
    {
      "cell_type": "markdown",
      "metadata": {
        "id": "view-in-github",
        "colab_type": "text"
      },
      "source": [
        "<a href=\"https://colab.research.google.com/github/SowmyaLR/neural-networks/blob/practise/ML/KNN/knn.ipynb\" target=\"_parent\"><img src=\"https://colab.research.google.com/assets/colab-badge.svg\" alt=\"Open In Colab\"/></a>"
      ]
    },
    {
      "cell_type": "code",
      "metadata": {
        "id": "_FtcpQrNVMaS",
        "colab_type": "code",
        "colab": {
          "base_uri": "https://localhost:8080/",
          "height": 224
        },
        "outputId": "1e3ec8f6-1dee-479e-aa9c-52c3e73dc76b"
      },
      "source": [
        "!wget -O 'fruit_dataset.txt' https://raw.githubusercontent.com/SowmyaLR/neural-networks/practise/ML/KNN/fruit_data_with_colors.txt"
      ],
      "execution_count": 1,
      "outputs": [
        {
          "output_type": "stream",
          "text": [
            "--2020-05-02 07:47:53--  https://raw.githubusercontent.com/SowmyaLR/neural-networks/practise/ML/KNN/fruit_data_with_colors.txt\n",
            "Resolving raw.githubusercontent.com (raw.githubusercontent.com)... 151.101.0.133, 151.101.64.133, 151.101.128.133, ...\n",
            "Connecting to raw.githubusercontent.com (raw.githubusercontent.com)|151.101.0.133|:443... connected.\n",
            "HTTP request sent, awaiting response... 200 OK\n",
            "Length: 2370 (2.3K) [text/plain]\n",
            "Saving to: ‘fruit_dataset.txt’\n",
            "\n",
            "\rfruit_dataset.txt     0%[                    ]       0  --.-KB/s               \rfruit_dataset.txt   100%[===================>]   2.31K  --.-KB/s    in 0s      \n",
            "\n",
            "2020-05-02 07:47:53 (34.5 MB/s) - ‘fruit_dataset.txt’ saved [2370/2370]\n",
            "\n"
          ],
          "name": "stdout"
        }
      ]
    },
    {
      "cell_type": "code",
      "metadata": {
        "id": "b1UbBsftWtFv",
        "colab_type": "code",
        "colab": {}
      },
      "source": [
        "import pandas as pd"
      ],
      "execution_count": 0,
      "outputs": []
    },
    {
      "cell_type": "code",
      "metadata": {
        "id": "ilEjROCxWvcz",
        "colab_type": "code",
        "colab": {
          "base_uri": "https://localhost:8080/",
          "height": 68
        },
        "outputId": "f26fd75c-e5fb-4dbc-9e36-983223adc4cc"
      },
      "source": [
        "df = pd.read_table('fruit_dataset.txt')\n",
        "df.columns"
      ],
      "execution_count": 13,
      "outputs": [
        {
          "output_type": "execute_result",
          "data": {
            "text/plain": [
              "Index(['fruit_label', 'fruit_name', 'fruit_subtype', 'mass', 'width', 'height',\n",
              "       'color_score'],\n",
              "      dtype='object')"
            ]
          },
          "metadata": {
            "tags": []
          },
          "execution_count": 13
        }
      ]
    },
    {
      "cell_type": "code",
      "metadata": {
        "id": "JWchc2K_XPNB",
        "colab_type": "code",
        "colab": {
          "base_uri": "https://localhost:8080/",
          "height": 297
        },
        "outputId": "79648d9b-93cd-43ed-8aeb-d302731f3fbb"
      },
      "source": [
        "df.describe()"
      ],
      "execution_count": 7,
      "outputs": [
        {
          "output_type": "execute_result",
          "data": {
            "text/html": [
              "<div>\n",
              "<style scoped>\n",
              "    .dataframe tbody tr th:only-of-type {\n",
              "        vertical-align: middle;\n",
              "    }\n",
              "\n",
              "    .dataframe tbody tr th {\n",
              "        vertical-align: top;\n",
              "    }\n",
              "\n",
              "    .dataframe thead th {\n",
              "        text-align: right;\n",
              "    }\n",
              "</style>\n",
              "<table border=\"1\" class=\"dataframe\">\n",
              "  <thead>\n",
              "    <tr style=\"text-align: right;\">\n",
              "      <th></th>\n",
              "      <th>fruit_label</th>\n",
              "      <th>mass</th>\n",
              "      <th>width</th>\n",
              "      <th>height</th>\n",
              "      <th>color_score</th>\n",
              "    </tr>\n",
              "  </thead>\n",
              "  <tbody>\n",
              "    <tr>\n",
              "      <th>count</th>\n",
              "      <td>59.000000</td>\n",
              "      <td>59.000000</td>\n",
              "      <td>59.000000</td>\n",
              "      <td>59.000000</td>\n",
              "      <td>59.000000</td>\n",
              "    </tr>\n",
              "    <tr>\n",
              "      <th>mean</th>\n",
              "      <td>2.542373</td>\n",
              "      <td>163.118644</td>\n",
              "      <td>7.105085</td>\n",
              "      <td>7.693220</td>\n",
              "      <td>0.762881</td>\n",
              "    </tr>\n",
              "    <tr>\n",
              "      <th>std</th>\n",
              "      <td>1.208048</td>\n",
              "      <td>55.018832</td>\n",
              "      <td>0.816938</td>\n",
              "      <td>1.361017</td>\n",
              "      <td>0.076857</td>\n",
              "    </tr>\n",
              "    <tr>\n",
              "      <th>min</th>\n",
              "      <td>1.000000</td>\n",
              "      <td>76.000000</td>\n",
              "      <td>5.800000</td>\n",
              "      <td>4.000000</td>\n",
              "      <td>0.550000</td>\n",
              "    </tr>\n",
              "    <tr>\n",
              "      <th>25%</th>\n",
              "      <td>1.000000</td>\n",
              "      <td>140.000000</td>\n",
              "      <td>6.600000</td>\n",
              "      <td>7.200000</td>\n",
              "      <td>0.720000</td>\n",
              "    </tr>\n",
              "    <tr>\n",
              "      <th>50%</th>\n",
              "      <td>3.000000</td>\n",
              "      <td>158.000000</td>\n",
              "      <td>7.200000</td>\n",
              "      <td>7.600000</td>\n",
              "      <td>0.750000</td>\n",
              "    </tr>\n",
              "    <tr>\n",
              "      <th>75%</th>\n",
              "      <td>4.000000</td>\n",
              "      <td>177.000000</td>\n",
              "      <td>7.500000</td>\n",
              "      <td>8.200000</td>\n",
              "      <td>0.810000</td>\n",
              "    </tr>\n",
              "    <tr>\n",
              "      <th>max</th>\n",
              "      <td>4.000000</td>\n",
              "      <td>362.000000</td>\n",
              "      <td>9.600000</td>\n",
              "      <td>10.500000</td>\n",
              "      <td>0.930000</td>\n",
              "    </tr>\n",
              "  </tbody>\n",
              "</table>\n",
              "</div>"
            ],
            "text/plain": [
              "       fruit_label        mass      width     height  color_score\n",
              "count    59.000000   59.000000  59.000000  59.000000    59.000000\n",
              "mean      2.542373  163.118644   7.105085   7.693220     0.762881\n",
              "std       1.208048   55.018832   0.816938   1.361017     0.076857\n",
              "min       1.000000   76.000000   5.800000   4.000000     0.550000\n",
              "25%       1.000000  140.000000   6.600000   7.200000     0.720000\n",
              "50%       3.000000  158.000000   7.200000   7.600000     0.750000\n",
              "75%       4.000000  177.000000   7.500000   8.200000     0.810000\n",
              "max       4.000000  362.000000   9.600000  10.500000     0.930000"
            ]
          },
          "metadata": {
            "tags": []
          },
          "execution_count": 7
        }
      ]
    },
    {
      "cell_type": "code",
      "metadata": {
        "id": "GKfLqWeZXYHn",
        "colab_type": "code",
        "colab": {
          "base_uri": "https://localhost:8080/",
          "height": 400
        },
        "outputId": "e0fd6177-6d24-4bd5-a552-247d4415f42b"
      },
      "source": [
        "df.hist()"
      ],
      "execution_count": 8,
      "outputs": [
        {
          "output_type": "execute_result",
          "data": {
            "text/plain": [
              "array([[<matplotlib.axes._subplots.AxesSubplot object at 0x7f4bd896b908>,\n",
              "        <matplotlib.axes._subplots.AxesSubplot object at 0x7f4bd893e908>],\n",
              "       [<matplotlib.axes._subplots.AxesSubplot object at 0x7f4bd88f0ac8>,\n",
              "        <matplotlib.axes._subplots.AxesSubplot object at 0x7f4bd88a1d30>],\n",
              "       [<matplotlib.axes._subplots.AxesSubplot object at 0x7f4bd8852f98>,\n",
              "        <matplotlib.axes._subplots.AxesSubplot object at 0x7f4bd880d240>]],\n",
              "      dtype=object)"
            ]
          },
          "metadata": {
            "tags": []
          },
          "execution_count": 8
        },
        {
          "output_type": "display_data",
          "data": {
            "image/png": "[encoded data removed]",
            "text/plain": [
              "<Figure size 432x288 with 6 Axes>"
            ]
          },
          "metadata": {
            "tags": [],
            "needs_background": "light"
          }
        }
      ]
    },
    {
      "cell_type": "code",
      "metadata": {
        "id": "w60PV1eKXtlT",
        "colab_type": "code",
        "colab": {
          "base_uri": "https://localhost:8080/",
          "height": 71
        },
        "outputId": "0b7376b0-fade-45ad-8f07-d14d9c1cbbfa"
      },
      "source": [
        "import seaborn as sns"
      ],
      "execution_count": 10,
      "outputs": [
        {
          "output_type": "stream",
          "text": [
            "/usr/local/lib/python3.6/dist-packages/statsmodels/tools/_testing.py:19: FutureWarning: pandas.util.testing is deprecated. Use the functions in the public API at pandas.testing instead.\n",
            "  import pandas.util.testing as tm\n"
          ],
          "name": "stderr"
        }
      ]
    },
    {
      "cell_type": "code",
      "metadata": {
        "id": "nXu0-44DXyZ2",
        "colab_type": "code",
        "colab": {
          "base_uri": "https://localhost:8080/",
          "height": 584
        },
        "outputId": "11a4f36c-0174-445d-e9e2-091b2a6a3e0e"
      },
      "source": [
        "temp_df = df[[ 'mass', 'width', 'height']]\n",
        "\n",
        "\n",
        "\n",
        "sns.pairplot(temp_df)"
      ],
      "execution_count": 16,
      "outputs": [
        {
          "output_type": "execute_result",
          "data": {
            "text/plain": [
              "<seaborn.axisgrid.PairGrid at 0x7f4bc8956668>"
            ]
          },
          "metadata": {
            "tags": []
          },
          "execution_count": 16
        },
        {
          "output_type": "display_data",
          "data": {
            "image/png": "[encoded data removed]",
            "text/plain": [
              "<Figure size 540x540 with 12 Axes>"
            ]
          },
          "metadata": {
            "tags": [],
            "needs_background": "light"
          }
        }
      ]
    },
    {
      "cell_type": "markdown",
      "metadata": {
        "id": "BD_0MuJuZETk",
        "colab_type": "text"
      },
      "source": [
        "**Descriptive analysis:**\n",
        "\n",
        "From the above graph we can find that there is a relationship between mass&width,mass&height. If width increases mass also increases positively. Similarly for height too.\n",
        "\n"
      ]
    },
    {
      "cell_type": "code",
      "metadata": {
        "id": "zT3u7-EjZbOV",
        "colab_type": "code",
        "colab": {
          "base_uri": "https://localhost:8080/",
          "height": 142
        },
        "outputId": "a26819bf-c861-4b02-945e-37023675e8fd"
      },
      "source": [
        "#pd.pivot_table(df, index=['mass'])\n",
        "\n",
        "temp_df.corr()"
      ],
      "execution_count": 22,
      "outputs": [
        {
          "output_type": "execute_result",
          "data": {
            "text/html": [
              "<div>\n",
              "<style scoped>\n",
              "    .dataframe tbody tr th:only-of-type {\n",
              "        vertical-align: middle;\n",
              "    }\n",
              "\n",
              "    .dataframe tbody tr th {\n",
              "        vertical-align: top;\n",
              "    }\n",
              "\n",
              "    .dataframe thead th {\n",
              "        text-align: right;\n",
              "    }\n",
              "</style>\n",
              "<table border=\"1\" class=\"dataframe\">\n",
              "  <thead>\n",
              "    <tr style=\"text-align: right;\">\n",
              "      <th></th>\n",
              "      <th>mass</th>\n",
              "      <th>width</th>\n",
              "      <th>height</th>\n",
              "    </tr>\n",
              "  </thead>\n",
              "  <tbody>\n",
              "    <tr>\n",
              "      <th>mass</th>\n",
              "      <td>1.000000</td>\n",
              "      <td>0.877687</td>\n",
              "      <td>0.609571</td>\n",
              "    </tr>\n",
              "    <tr>\n",
              "      <th>width</th>\n",
              "      <td>0.877687</td>\n",
              "      <td>1.000000</td>\n",
              "      <td>0.396848</td>\n",
              "    </tr>\n",
              "    <tr>\n",
              "      <th>height</th>\n",
              "      <td>0.609571</td>\n",
              "      <td>0.396848</td>\n",
              "      <td>1.000000</td>\n",
              "    </tr>\n",
              "  </tbody>\n",
              "</table>\n",
              "</div>"
            ],
            "text/plain": [
              "            mass     width    height\n",
              "mass    1.000000  0.877687  0.609571\n",
              "width   0.877687  1.000000  0.396848\n",
              "height  0.609571  0.396848  1.000000"
            ]
          },
          "metadata": {
            "tags": []
          },
          "execution_count": 22
        }
      ]
    },
    {
      "cell_type": "markdown",
      "metadata": {
        "id": "m-B-gP8Fjx4_",
        "colab_type": "text"
      },
      "source": [
        "corr always gives a value between -1<=0<=1\n",
        "\n",
        "If it is -ve it is -vely correlated\n",
        "If it is +ve it is +vely correlated"
      ]
    },
    {
      "cell_type": "code",
      "metadata": {
        "id": "u1NHDWk6j2T9",
        "colab_type": "code",
        "colab": {}
      },
      "source": [
        "from sklearn.model_selection import train_test_split\n",
        "from sklearn.neighbors import KNeighborsClassifier\n",
        "\n"
      ],
      "execution_count": 0,
      "outputs": []
    },
    {
      "cell_type": "code",
      "metadata": {
        "id": "vTYdd3mAk-pP",
        "colab_type": "code",
        "colab": {}
      },
      "source": [
        "features = [ 'mass', 'width', 'height', 'color_score']\n",
        "X = df[features]\n",
        "y = df[['fruit_label']]\n"
      ],
      "execution_count": 0,
      "outputs": []
    },
    {
      "cell_type": "code",
      "metadata": {
        "id": "g4AxzcvplY-T",
        "colab_type": "code",
        "colab": {
          "base_uri": "https://localhost:8080/",
          "height": 190
        },
        "outputId": "265fdfa8-0dca-4cfe-a2ea-10529ec07e75"
      },
      "source": [
        "X_train, X_test, y_train, y_test = train_test_split(X,y,random_state=1)\n",
        "k1 = KNeighborsClassifier(n_neighbors=1)\n",
        "k3 = KNeighborsClassifier(n_neighbors=3)\n",
        "k5 = KNeighborsClassifier(n_neighbors=5)\n",
        "\n",
        "k1.fit(X_train, y_train)\n",
        "k3.fit(X_train, y_train)\n",
        "k5.fit(X_train, y_train)\n",
        "\n",
        "\n",
        "print(f\"K = 1 train score {k1.score(X_train, y_train)} test score {k1.score(X_test, y_test)}\" )\n",
        "print(f\"K = 3 train score {k3.score(X_train, y_train)} test score {k1.score(X_test, y_test)}\" )\n",
        "print(f\"K = 5 train score {k5.score(X_train, y_train)} test score {k1.score(X_test, y_test)}\" )"
      ],
      "execution_count": 27,
      "outputs": [
        {
          "output_type": "stream",
          "text": [
            "K = 1 train score 1.0 test score 0.8\n",
            "K = 3 train score 0.7727272727272727 test score 0.8\n",
            "K = 5 train score 0.7045454545454546 test score 0.8\n"
          ],
          "name": "stdout"
        },
        {
          "output_type": "stream",
          "text": [
            "/usr/local/lib/python3.6/dist-packages/ipykernel_launcher.py:6: DataConversionWarning: A column-vector y was passed when a 1d array was expected. Please change the shape of y to (n_samples, ), for example using ravel().\n",
            "  \n",
            "/usr/local/lib/python3.6/dist-packages/ipykernel_launcher.py:7: DataConversionWarning: A column-vector y was passed when a 1d array was expected. Please change the shape of y to (n_samples, ), for example using ravel().\n",
            "  import sys\n",
            "/usr/local/lib/python3.6/dist-packages/ipykernel_launcher.py:8: DataConversionWarning: A column-vector y was passed when a 1d array was expected. Please change the shape of y to (n_samples, ), for example using ravel().\n",
            "  \n"
          ],
          "name": "stderr"
        }
      ]
    },
    {
      "cell_type": "code",
      "metadata": {
        "id": "1fZNlX8DndDM",
        "colab_type": "code",
        "colab": {
          "base_uri": "https://localhost:8080/",
          "height": 190
        },
        "outputId": "12907a1b-a959-4d15-ed3d-1118ce37f720"
      },
      "source": [
        "# Now data scaling is done\n",
        "\n",
        "from sklearn.preprocessing import MinMaxScaler\n",
        "\n",
        "scaler = MinMaxScaler()\n",
        "X_train_scaled = scaler.fit_transform(X_train)\n",
        "X_test_scaled = scaler.fit_transform(X_test)\n",
        "\n",
        "\n",
        "k1 = KNeighborsClassifier(n_neighbors=1)\n",
        "k3 = KNeighborsClassifier(n_neighbors=3)\n",
        "k5 = KNeighborsClassifier(n_neighbors=5)\n",
        "\n",
        "k1.fit(X_train_scaled, y_train)\n",
        "k3.fit(X_train_scaled, y_train)\n",
        "k5.fit(X_train_scaled, y_train)\n",
        "\n",
        "\n",
        "print(f\"K = 1 train score {k1.score(X_train_scaled, y_train)} test score {k1.score(X_test_scaled, y_test)}\" )\n",
        "print(f\"K = 3 train score {k3.score(X_train_scaled, y_train)} test score {k1.score(X_test_scaled, y_test)}\" )\n",
        "print(f\"K = 5 train score {k5.score(X_train_scaled, y_train)} test score {k1.score(X_test_scaled, y_test)}\" )"
      ],
      "execution_count": 28,
      "outputs": [
        {
          "output_type": "stream",
          "text": [
            "K = 1 train score 1.0 test score 0.9333333333333333\n",
            "K = 3 train score 0.9772727272727273 test score 0.9333333333333333\n",
            "K = 5 train score 0.9545454545454546 test score 0.9333333333333333\n"
          ],
          "name": "stdout"
        },
        {
          "output_type": "stream",
          "text": [
            "/usr/local/lib/python3.6/dist-packages/ipykernel_launcher.py:13: DataConversionWarning: A column-vector y was passed when a 1d array was expected. Please change the shape of y to (n_samples, ), for example using ravel().\n",
            "  del sys.path[0]\n",
            "/usr/local/lib/python3.6/dist-packages/ipykernel_launcher.py:14: DataConversionWarning: A column-vector y was passed when a 1d array was expected. Please change the shape of y to (n_samples, ), for example using ravel().\n",
            "  \n",
            "/usr/local/lib/python3.6/dist-packages/ipykernel_launcher.py:15: DataConversionWarning: A column-vector y was passed when a 1d array was expected. Please change the shape of y to (n_samples, ), for example using ravel().\n",
            "  from ipykernel import kernelapp as app\n"
          ],
          "name": "stderr"
        }
      ]
    },
    {
      "cell_type": "markdown",
      "metadata": {
        "id": "A5tSwzbuoQb2",
        "colab_type": "text"
      },
      "source": [
        "After scaling it is evident that test score is improved."
      ]
    }
  ]
}