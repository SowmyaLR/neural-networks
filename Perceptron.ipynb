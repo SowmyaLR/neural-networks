{
  "nbformat": 4,
  "nbformat_minor": 0,
  "metadata": {
    "colab": {
      "name": "Perceptron.ipynb",
      "provenance": [],
      "include_colab_link": true
    },
    "kernelspec": {
      "name": "python3",
      "display_name": "Python 3"
    }
  },
  "cells": [
    {
      "cell_type": "markdown",
      "metadata": {
        "id": "view-in-github",
        "colab_type": "text"
      },
      "source": [
        "<a href=\"https://colab.research.google.com/github/lrsowmya/neural-networks/blob/basic_stuff/Perceptron.ipynb\" target=\"_parent\"><img src=\"https://colab.research.google.com/assets/colab-badge.svg\" alt=\"Open In Colab\"/></a>"
      ]
    },
    {
      "cell_type": "code",
      "metadata": {
        "id": "cYZljXZksmJ7",
        "colab_type": "code",
        "colab": {}
      },
      "source": [
        "import random\n",
        "\n",
        "lr = 1\n",
        "bias = 1\n",
        "weights = [random.random(), random.random(), random.random()] # weigths[0] = input1, weights[1] = input2, weights[2] = bias"
      ],
      "execution_count": 0,
      "outputs": []
    },
    {
      "cell_type": "code",
      "metadata": {
        "id": "7LLJlk5Uux6x",
        "colab_type": "code",
        "colab": {}
      },
      "source": [
        "def Perceptron(input1, input2, output):\n",
        "  outputP = input1*weights[0] + input2*weights[1] + bias*weights[2]\n",
        "  if outputP > 0:\n",
        "    outputP = 1\n",
        "  else:\n",
        "    outputP = 0\n",
        "  error = output - outputP\n",
        "  weights[0] += error*input1*lr\n",
        "  weights[1] += error*input2*lr\n",
        "  weights[2] += error*output*lr\n",
        "  # print(weights)"
      ],
      "execution_count": 0,
      "outputs": []
    },
    {
      "cell_type": "code",
      "metadata": {
        "id": "LneXnMLeVp_o",
        "colab_type": "code",
        "colab": {}
      },
      "source": [
        "for i in range(50):\n",
        "  Perceptron(1,1,1)\n",
        "  Perceptron(1,0,1)\n",
        "  Perceptron(0,1,1)\n",
        "  Perceptron(0,0,0)"
      ],
      "execution_count": 0,
      "outputs": []
    },
    {
      "cell_type": "code",
      "metadata": {
        "id": "VjsOX0DQWDBS",
        "colab_type": "code",
        "colab": {
          "base_uri": "https://localhost:8080/",
          "height": 68
        },
        "outputId": "54a746d5-10da-4a0b-a619-adc81a8a6d4e"
      },
      "source": [
        "x = int(input())\n",
        "y = int(input())\n",
        "output = x*weights[0] + y*weights[1] + bias*weights[2]\n",
        "if output>0:\n",
        "  print(1)\n",
        "else:\n",
        "  print(0)"
      ],
      "execution_count": 15,
      "outputs": [
        {
          "output_type": "stream",
          "text": [
            "0\n",
            "1\n",
            "1\n"
          ],
          "name": "stdout"
        }
      ]
    }
  ]
}